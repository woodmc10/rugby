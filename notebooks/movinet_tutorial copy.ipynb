{
  "cells": [
    {
      "cell_type": "markdown",
      "metadata": {
        "id": "view-in-github",
        "colab_type": "text"
      },
      "source": [
        "<a href=\"https://colab.research.google.com/github/woodmc10/rugby/blob/main/notebooks/movinet_tutorial.ipynb\" target=\"_parent\"><img src=\"https://colab.research.google.com/assets/colab-badge.svg\" alt=\"Open In Colab\"/></a>"
      ]
    },
    {
      "cell_type": "markdown",
      "metadata": {
        "id": "3E96e1UKQ8uR"
      },
      "source": [
        "# MoViNet Tutorial\n",
        "\n",
        "This notebook provides basic example code to build, run, and fine-tune [MoViNets (Mobile Video Networks)](https://arxiv.org/pdf/2103.11511.pdf).\n",
        "\n",
        "Pretrained models are provided by [TensorFlow Hub](https://tfhub.dev/google/collections/movinet/) and the [TensorFlow Model Garden](https://github.com/tensorflow/models/tree/master/official/projects/movinet), trained on [Kinetics 600](https://deepmind.com/research/open-source/kinetics) for video action classification. All Models use TensorFlow 2 with Keras for inference and training.\n",
        "\n",
        "The following steps will be performed:\n",
        "\n",
        "1. [Running base model inference with TensorFlow Hub](#scrollTo=6g0tuFvf71S9&line=8&uniqifier=1)\n",
        "2. [Running streaming model inference with TensorFlow Hub and plotting predictions](#scrollTo=ADrHPmwGcBZ5&line=4&uniqifier=1)\n",
        "3. [Exporting a streaming model to TensorFlow Lite for mobile](#scrollTo=W3CLHvubvdSI&line=3&uniqifier=1)\n",
        "4. [Fine-Tuning a base Model with the TensorFlow Model Garden](#scrollTo=_s-7bEoa3f8g&line=11&uniqifier=1)\n",
        "\n",
        "![jumping jacks plot](https://storage.googleapis.com/tf_model_garden/vision/movinet/artifacts/jumpingjacks_plot.gif)\n",
        "\n",
        "To generate video plots like the one above, see [section 2](#scrollTo=ADrHPmwGcBZ5&line=4&uniqifier=1)."
      ]
    },
    {
      "cell_type": "markdown",
      "metadata": {
        "id": "8_oLnvJy7kz5"
      },
      "source": [
        "## Setup\n",
        "\n",
        "For inference on smaller models (A0-A2), CPU is sufficient for this Colab. For fine-tuning, it is recommended to run the models using GPUs.\n",
        "\n",
        "To select a GPU in Colab, select `Runtime > Change runtime type > Hardware accelerator > v2-8 TPU` dropdown in the top menu."
      ]
    },
    {
      "cell_type": "code",
      "execution_count": 3,
      "metadata": {
        "id": "s3khsunT7kWa",
        "outputId": "6c119da8-8314-4172-e7e9-b867917a491a",
        "colab": {
          "base_uri": "https://localhost:8080/",
          "height": 867
        }
      },
      "outputs": [
        {
          "output_type": "stream",
          "name": "stdout",
          "text": [
            "\u001b[?25l     \u001b[90m━━━━━━━━━━━━━━━━━━━━━━━━━━━━━━━━━━━━━━━━\u001b[0m \u001b[32m0.0/51.8 kB\u001b[0m \u001b[31m?\u001b[0m eta \u001b[36m-:--:--\u001b[0m\r\u001b[2K     \u001b[90m━━━━━━━━━━━━━━━━━━━━━━━━━━━━━━━━━━━━━━━━\u001b[0m \u001b[32m51.8/51.8 kB\u001b[0m \u001b[31m2.2 MB/s\u001b[0m eta \u001b[36m0:00:00\u001b[0m\n",
            "\u001b[?25h\u001b[?25l     \u001b[90m━━━━━━━━━━━━━━━━━━━━━━━━━━━━━━━━━━━━━━━━\u001b[0m \u001b[32m0.0/43.6 kB\u001b[0m \u001b[31m?\u001b[0m eta \u001b[36m-:--:--\u001b[0m\r\u001b[2K     \u001b[90m━━━━━━━━━━━━━━━━━━━━━━━━━━━━━━━━━━━━━━━━\u001b[0m \u001b[32m43.6/43.6 kB\u001b[0m \u001b[31m2.7 MB/s\u001b[0m eta \u001b[36m0:00:00\u001b[0m\n",
            "\u001b[?25h  Preparing metadata (setup.py) ... \u001b[?25l\u001b[?25hdone\n",
            "\u001b[2K   \u001b[90m━━━━━━━━━━━━━━━━━━━━━━━━━━━━━━━━━━━━━━━━\u001b[0m \u001b[32m2.9/2.9 MB\u001b[0m \u001b[31m39.7 MB/s\u001b[0m eta \u001b[36m0:00:00\u001b[0m\n",
            "\u001b[2K   \u001b[90m━━━━━━━━━━━━━━━━━━━━━━━━━━━━━━━━━━━━━━━━\u001b[0m \u001b[32m2.2/2.2 MB\u001b[0m \u001b[31m74.7 MB/s\u001b[0m eta \u001b[36m0:00:00\u001b[0m\n",
            "\u001b[2K   \u001b[90m━━━━━━━━━━━━━━━━━━━━━━━━━━━━━━━━━━━━━━━━\u001b[0m \u001b[32m12.8/12.8 MB\u001b[0m \u001b[31m104.2 MB/s\u001b[0m eta \u001b[36m0:00:00\u001b[0m\n",
            "\u001b[2K   \u001b[90m━━━━━━━━━━━━━━━━━━━━━━━━━━━━━━━━━━━━━━━━\u001b[0m \u001b[32m615.4/615.4 MB\u001b[0m \u001b[31m870.2 kB/s\u001b[0m eta \u001b[36m0:00:00\u001b[0m\n",
            "\u001b[2K   \u001b[90m━━━━━━━━━━━━━━━━━━━━━━━━━━━━━━━━━━━━━━━━\u001b[0m \u001b[32m242.5/242.5 kB\u001b[0m \u001b[31m48.3 kB/s\u001b[0m eta \u001b[36m0:00:00\u001b[0m\n",
            "\u001b[2K   \u001b[90m━━━━━━━━━━━━━━━━━━━━━━━━━━━━━━━━━━━━━━━━\u001b[0m \u001b[32m5.2/5.2 MB\u001b[0m \u001b[31m96.2 MB/s\u001b[0m eta \u001b[36m0:00:00\u001b[0m\n",
            "\u001b[2K   \u001b[90m━━━━━━━━━━━━━━━━━━━━━━━━━━━━━━━━━━━━━━━━\u001b[0m \u001b[32m1.7/1.7 MB\u001b[0m \u001b[31m68.2 MB/s\u001b[0m eta \u001b[36m0:00:00\u001b[0m\n",
            "\u001b[2K   \u001b[90m━━━━━━━━━━━━━━━━━━━━━━━━━━━━━━━━━━━━━━━━\u001b[0m \u001b[32m3.6/3.6 MB\u001b[0m \u001b[31m87.3 MB/s\u001b[0m eta \u001b[36m0:00:00\u001b[0m\n",
            "\u001b[2K   \u001b[90m━━━━━━━━━━━━━━━━━━━━━━━━━━━━━━━━━━━━━━━━\u001b[0m \u001b[32m98.2/98.2 kB\u001b[0m \u001b[31m6.4 MB/s\u001b[0m eta \u001b[36m0:00:00\u001b[0m\n",
            "\u001b[2K   \u001b[90m━━━━━━━━━━━━━━━━━━━━━━━━━━━━━━━━━━━━━━━━\u001b[0m \u001b[32m50.0/50.0 MB\u001b[0m \u001b[31m22.4 MB/s\u001b[0m eta \u001b[36m0:00:00\u001b[0m\n",
            "\u001b[2K   \u001b[90m━━━━━━━━━━━━━━━━━━━━━━━━━━━━━━━━━━━━━━━━\u001b[0m \u001b[32m458.7/458.7 kB\u001b[0m \u001b[31m12.8 MB/s\u001b[0m eta \u001b[36m0:00:00\u001b[0m\n",
            "\u001b[2K   \u001b[90m━━━━━━━━━━━━━━━━━━━━━━━━━━━━━━━━━━━━━━━━\u001b[0m \u001b[32m104.1/104.1 kB\u001b[0m \u001b[31m7.8 MB/s\u001b[0m eta \u001b[36m0:00:00\u001b[0m\n",
            "\u001b[2K   \u001b[90m━━━━━━━━━━━━━━━━━━━━━━━━━━━━━━━━━━━━━━━━\u001b[0m \u001b[32m5.5/5.5 MB\u001b[0m \u001b[31m98.1 MB/s\u001b[0m eta \u001b[36m0:00:00\u001b[0m\n",
            "\u001b[2K   \u001b[90m━━━━━━━━━━━━━━━━━━━━━━━━━━━━━━━━━━━━━━━━\u001b[0m \u001b[32m5.0/5.0 MB\u001b[0m \u001b[31m96.9 MB/s\u001b[0m eta \u001b[36m0:00:00\u001b[0m\n",
            "\u001b[?25h  Building wheel for seqeval (setup.py) ... \u001b[?25l\u001b[?25hdone\n",
            "\u001b[31mERROR: pip's dependency resolver does not currently take into account all the packages that are installed. This behaviour is the source of the following dependency conflicts.\n",
            "tensorflow-tpu 2.17.0 requires tensorboard<2.18,>=2.17, but you have tensorboard 2.18.0 which is incompatible.\u001b[0m\u001b[31m\n",
            "\u001b[2K   \u001b[90m━━━━━━━━━━━━━━━━━━━━━━━━━━━━━━━━━━━━━━━━\u001b[0m \u001b[32m1.6/1.6 MB\u001b[0m \u001b[31m23.4 MB/s\u001b[0m eta \u001b[36m0:00:00\u001b[0m\n",
            "\u001b[?25hCollecting matplotlib==3.7.0\n",
            "  Downloading matplotlib-3.7.0-cp311-cp311-manylinux_2_17_x86_64.manylinux2014_x86_64.whl.metadata (5.6 kB)\n",
            "Requirement already satisfied: contourpy>=1.0.1 in /usr/local/lib/python3.11/dist-packages (from matplotlib==3.7.0) (1.3.1)\n",
            "Requirement already satisfied: cycler>=0.10 in /usr/local/lib/python3.11/dist-packages (from matplotlib==3.7.0) (0.12.1)\n",
            "Requirement already satisfied: fonttools>=4.22.0 in /usr/local/lib/python3.11/dist-packages (from matplotlib==3.7.0) (4.55.3)\n",
            "Requirement already satisfied: kiwisolver>=1.0.1 in /usr/local/lib/python3.11/dist-packages (from matplotlib==3.7.0) (1.4.8)\n",
            "Requirement already satisfied: numpy>=1.20 in /usr/local/lib/python3.11/dist-packages (from matplotlib==3.7.0) (1.26.4)\n",
            "Requirement already satisfied: packaging>=20.0 in /usr/local/lib/python3.11/dist-packages (from matplotlib==3.7.0) (24.2)\n",
            "Requirement already satisfied: pillow>=6.2.0 in /usr/local/lib/python3.11/dist-packages (from matplotlib==3.7.0) (11.1.0)\n",
            "Requirement already satisfied: pyparsing>=2.3.1 in /usr/local/lib/python3.11/dist-packages (from matplotlib==3.7.0) (3.2.1)\n",
            "Requirement already satisfied: python-dateutil>=2.7 in /usr/local/lib/python3.11/dist-packages (from matplotlib==3.7.0) (2.9.0.post0)\n",
            "Requirement already satisfied: six>=1.5 in /usr/local/lib/python3.11/dist-packages (from python-dateutil>=2.7->matplotlib==3.7.0) (1.17.0)\n",
            "Downloading matplotlib-3.7.0-cp311-cp311-manylinux_2_17_x86_64.manylinux2014_x86_64.whl (11.6 MB)\n",
            "\u001b[2K   \u001b[90m━━━━━━━━━━━━━━━━━━━━━━━━━━━━━━━━━━━━━━━━\u001b[0m \u001b[32m11.6/11.6 MB\u001b[0m \u001b[31m103.0 MB/s\u001b[0m eta \u001b[36m0:00:00\u001b[0m\n",
            "\u001b[?25hInstalling collected packages: matplotlib\n",
            "  Attempting uninstall: matplotlib\n",
            "    Found existing installation: matplotlib 3.10.0\n",
            "    Uninstalling matplotlib-3.10.0:\n",
            "      Successfully uninstalled matplotlib-3.10.0\n",
            "Successfully installed matplotlib-3.7.0\n"
          ]
        },
        {
          "output_type": "display_data",
          "data": {
            "application/vnd.colab-display-data+json": {
              "pip_warning": {
                "packages": [
                  "matplotlib",
                  "mpl_toolkits"
                ]
              },
              "id": "f48e46363a2b4f69aec639ddd75f229b"
            }
          },
          "metadata": {}
        }
      ],
      "source": [
        "# Install packages\n",
        "\n",
        "# tf-models-official is the stable Model Garden package\n",
        "# tf-models-nightly includes latest changes\n",
        "!pip install -U -q \"tf-models-official\"\n",
        "\n",
        "\n",
        "# Install the mediapy package for visualizing images/videos.\n",
        "# See https://github.com/google/mediapy\n",
        "!command -v ffmpeg >/dev/null || (apt update && apt install -y ffmpeg)\n",
        "!pip install -q mediapy\n",
        "\n",
        "# Need an older version of Matplotlib for plots with FigureCanvasAgg\n",
        "!pip install matplotlib==3.7.0"
      ]
    },
    {
      "cell_type": "code",
      "execution_count": 1,
      "metadata": {
        "id": "dI_1csl6Q-gH"
      },
      "outputs": [],
      "source": [
        "# Run imports\n",
        "\n",
        "# Need to use legacy keras to avoid an error about keras and numpy arrays\n",
        "import os\n",
        "os.environ['TF_USE_LEGACY_KERAS'] = '1'\n",
        "\n",
        "import matplotlib as mpl\n",
        "import matplotlib.pyplot as plt\n",
        "import mediapy as media\n",
        "import numpy as np\n",
        "import PIL\n",
        "import pandas as pd\n",
        "import tensorflow as tf\n",
        "import tensorflow_datasets as tfds\n",
        "import tensorflow_hub as hub\n",
        "import tqdm\n",
        "import absl.logging\n",
        "\n",
        "tf.get_logger().setLevel('ERROR')\n",
        "absl.logging.set_verbosity(absl.logging.ERROR)\n",
        "mpl.rcParams.update({\n",
        "    'font.size': 10,\n",
        "})"
      ]
    },
    {
      "cell_type": "markdown",
      "metadata": {
        "id": "OnFqOXazoWgy"
      },
      "source": [
        "Run the cell below to define helper functions and create variables."
      ]
    },
    {
      "cell_type": "code",
      "execution_count": 2,
      "metadata": {
        "cellView": "form",
        "id": "dx55NK3ZoZeh"
      },
      "outputs": [],
      "source": [
        "#@title Run this cell to set up some helper code.\n",
        "\n",
        "# Download Kinetics 600 label map\n",
        "!wget https://raw.githubusercontent.com/tensorflow/models/f8af2291cced43fc9f1d9b41ddbf772ae7b0d7d2/official/projects/movinet/files/kinetics_600_labels.txt -O labels.txt -q\n",
        "\n",
        "with tf.io.gfile.GFile('labels.txt') as f:\n",
        "  lines = f.readlines()\n",
        "  KINETICS_600_LABELS_LIST = [line.strip() for line in lines]\n",
        "  KINETICS_600_LABELS = tf.constant(KINETICS_600_LABELS_LIST)\n",
        "\n",
        "def get_top_k(probs, k=5, label_map=KINETICS_600_LABELS):\n",
        "  \"\"\"Outputs the top k model labels and probabilities on the given video.\"\"\"\n",
        "  top_predictions = tf.argsort(probs, axis=-1, direction='DESCENDING')[:k]\n",
        "  top_labels = tf.gather(label_map, top_predictions, axis=-1)\n",
        "  top_labels = [label.decode('utf8') for label in top_labels.numpy()]\n",
        "  top_probs = tf.gather(probs, top_predictions, axis=-1).numpy()\n",
        "  return tuple(zip(top_labels, top_probs))\n",
        "\n",
        "def predict_top_k(model, video, k=5, label_map=KINETICS_600_LABELS):\n",
        "  \"\"\"Outputs the top k model labels and probabilities on the given video.\"\"\"\n",
        "  outputs = model.predict(video[tf.newaxis])[0]\n",
        "  probs = tf.nn.softmax(outputs)\n",
        "  return get_top_k(probs, k=k, label_map=label_map)\n",
        "\n",
        "def load_movinet_from_hub(model_id, model_mode, hub_version=3):\n",
        "  \"\"\"Loads a MoViNet model from TF Hub.\"\"\"\n",
        "  hub_url = f'https://tfhub.dev/tensorflow/movinet/{model_id}/{model_mode}/kinetics-600/classification/{hub_version}'\n",
        "\n",
        "  encoder = hub.KerasLayer(hub_url, trainable=True)\n",
        "\n",
        "  inputs = tf.keras.layers.Input(\n",
        "      shape=[None, None, None, 3],\n",
        "      dtype=tf.float32)\n",
        "\n",
        "  if model_mode == 'base':\n",
        "    inputs = dict(image=inputs)\n",
        "  else:\n",
        "    # Define the state inputs, which is a dict that maps state names to tensors.\n",
        "    init_states_fn = encoder.resolved_object.signatures['init_states']\n",
        "    state_shapes = {\n",
        "        name: ([s if s > 0 else None for s in state.shape], state.dtype)\n",
        "        for name, state in init_states_fn(tf.constant([0, 0, 0, 0, 3])).items()\n",
        "    }\n",
        "    states_input = {\n",
        "        name: tf.keras.Input(shape[1:], dtype=dtype, name=name)\n",
        "        for name, (shape, dtype) in state_shapes.items()\n",
        "    }\n",
        "\n",
        "    # The inputs to the model are the states and the video\n",
        "    inputs = {**states_input, 'image': inputs}\n",
        "\n",
        "  # Output shape: [batch_size, 600]\n",
        "  outputs = encoder(inputs)\n",
        "\n",
        "  model = tf.keras.Model(inputs, outputs)\n",
        "  model.build([1, 1, 1, 1, 3])\n",
        "\n",
        "  return model\n",
        "\n",
        "# Download example gif\n",
        "!wget https://github.com/tensorflow/models/raw/f8af2291cced43fc9f1d9b41ddbf772ae7b0d7d2/official/projects/movinet/files/jumpingjack.gif -O jumpingjack.gif -q\n",
        "\n",
        "def load_gif(file_path, image_size=(224, 224)):\n",
        "  \"\"\"Loads a gif file into a TF tensor.\"\"\"\n",
        "  with tf.io.gfile.GFile(file_path, 'rb') as f:\n",
        "    video = tf.io.decode_gif(f.read())\n",
        "  video = tf.image.resize(video, image_size)\n",
        "  video = tf.cast(video, tf.float32) / 255.\n",
        "  return video\n",
        "\n",
        "def get_top_k_streaming_labels(probs, k=5, label_map=KINETICS_600_LABELS_LIST):\n",
        "  \"\"\"Returns the top-k labels over an entire video sequence.\n",
        "\n",
        "  Args:\n",
        "    probs: probability tensor of shape (num_frames, num_classes) that represents\n",
        "      the probability of each class on each frame.\n",
        "    k: the number of top predictions to select.\n",
        "    label_map: a list of labels to map logit indices to label strings.\n",
        "\n",
        "  Returns:\n",
        "    a tuple of the top-k probabilities, labels, and logit indices\n",
        "  \"\"\"\n",
        "  top_categories_last = tf.argsort(probs, -1, 'DESCENDING')[-1, :1]\n",
        "  categories = tf.argsort(probs, -1, 'DESCENDING')[:, :k]\n",
        "  categories = tf.reshape(categories, [-1])\n",
        "\n",
        "  counts = sorted([\n",
        "      (i.numpy(), tf.reduce_sum(tf.cast(categories == i, tf.int32)).numpy())\n",
        "      for i in tf.unique(categories)[0]\n",
        "  ], key=lambda x: x[1], reverse=True)\n",
        "\n",
        "  top_probs_idx = tf.constant([i for i, _ in counts[:k]])\n",
        "  top_probs_idx = tf.concat([top_categories_last, top_probs_idx], 0)\n",
        "  top_probs_idx = tf.unique(top_probs_idx)[0][:k+1]\n",
        "\n",
        "  top_probs = tf.gather(probs, top_probs_idx, axis=-1)\n",
        "  top_probs = tf.transpose(top_probs, perm=(1, 0))\n",
        "  top_labels = tf.gather(label_map, top_probs_idx, axis=0)\n",
        "  top_labels = [label.decode('utf8') for label in top_labels.numpy()]\n",
        "\n",
        "  return top_probs, top_labels, top_probs_idx\n",
        "\n",
        "def plot_streaming_top_preds_at_step(\n",
        "    top_probs,\n",
        "    top_labels,\n",
        "    step=None,\n",
        "    image=None,\n",
        "    legend_loc='lower left',\n",
        "    duration_seconds=10,\n",
        "    figure_height=500,\n",
        "    playhead_scale=0.8,\n",
        "    grid_alpha=0.3):\n",
        "  \"\"\"Generates a plot of the top video model predictions at a given time step.\n",
        "\n",
        "  Args:\n",
        "    top_probs: a tensor of shape (k, num_frames) representing the top-k\n",
        "      probabilities over all frames.\n",
        "    top_labels: a list of length k that represents the top-k label strings.\n",
        "    step: the current time step in the range [0, num_frames].\n",
        "    image: the image frame to display at the current time step.\n",
        "    legend_loc: the placement location of the legend.\n",
        "    duration_seconds: the total duration of the video.\n",
        "    figure_height: the output figure height.\n",
        "    playhead_scale: scale value for the playhead.\n",
        "    grid_alpha: alpha value for the gridlines.\n",
        "\n",
        "  Returns:\n",
        "    A tuple of the output numpy image, figure, and axes.\n",
        "  \"\"\"\n",
        "  num_labels, num_frames = top_probs.shape\n",
        "  if step is None:\n",
        "    step = num_frames\n",
        "\n",
        "  fig = plt.figure(figsize=(6.5, 7), dpi=300)\n",
        "  gs = mpl.gridspec.GridSpec(8, 1)\n",
        "  ax2 = plt.subplot(gs[:-3, :])\n",
        "  ax = plt.subplot(gs[-3:, :])\n",
        "\n",
        "  if image is not None:\n",
        "    ax2.imshow(image, interpolation='nearest')\n",
        "    ax2.axis('off')\n",
        "\n",
        "  preview_line_x = tf.linspace(0., duration_seconds, num_frames)\n",
        "  preview_line_y = top_probs\n",
        "\n",
        "  line_x = preview_line_x[:step+1]\n",
        "  line_y = preview_line_y[:, :step+1]\n",
        "\n",
        "  for i in range(num_labels):\n",
        "    ax.plot(preview_line_x, preview_line_y[i], label=None, linewidth='1.5',\n",
        "            linestyle=':', color='gray')\n",
        "    ax.plot(line_x, line_y[i], label=top_labels[i], linewidth='2.0')\n",
        "\n",
        "\n",
        "  ax.grid(which='major', linestyle=':', linewidth='1.0', alpha=grid_alpha)\n",
        "  ax.grid(which='minor', linestyle=':', linewidth='0.5', alpha=grid_alpha)\n",
        "\n",
        "  min_height = tf.reduce_min(top_probs) * playhead_scale\n",
        "  max_height = tf.reduce_max(top_probs)\n",
        "  ax.vlines(preview_line_x[step], min_height, max_height, colors='red')\n",
        "  ax.scatter(preview_line_x[step], max_height, color='red')\n",
        "\n",
        "  ax.legend(loc=legend_loc)\n",
        "\n",
        "  plt.xlim(0, duration_seconds)\n",
        "  plt.ylabel('Probability')\n",
        "  plt.xlabel('Time (s)')\n",
        "  plt.yscale('log')\n",
        "\n",
        "  fig.tight_layout()\n",
        "  fig.canvas.draw()\n",
        "\n",
        "  data = np.frombuffer(fig.canvas.tostring_rgb(), dtype=np.uint8)\n",
        "  data = data.reshape(fig.canvas.get_width_height()[::-1] + (3,))\n",
        "  plt.close()\n",
        "\n",
        "  figure_width = int(figure_height * data.shape[1] / data.shape[0])\n",
        "  image = PIL.Image.fromarray(data).resize([figure_width, figure_height])\n",
        "  image = np.array(image)\n",
        "\n",
        "  return image, (fig, ax, ax2)\n",
        "\n",
        "def plot_streaming_top_preds(\n",
        "    probs,\n",
        "    video,\n",
        "    top_k=5,\n",
        "    video_fps=25.,\n",
        "    figure_height=500,\n",
        "    use_progbar=True):\n",
        "  \"\"\"Generates a video plot of the top video model predictions.\n",
        "\n",
        "  Args:\n",
        "    probs: probability tensor of shape (num_frames, num_classes) that represents\n",
        "      the probability of each class on each frame.\n",
        "    video: the video to display in the plot.\n",
        "    top_k: the number of top predictions to select.\n",
        "    video_fps: the input video fps.\n",
        "    figure_fps: the output video fps.\n",
        "    figure_height: the height of the output video.\n",
        "    use_progbar: display a progress bar.\n",
        "\n",
        "  Returns:\n",
        "    A numpy array representing the output video.\n",
        "  \"\"\"\n",
        "  video_fps = 8.\n",
        "  figure_height = 500\n",
        "  steps = video.shape[0]\n",
        "  duration = steps / video_fps\n",
        "\n",
        "  top_probs, top_labels, _ = get_top_k_streaming_labels(probs, k=top_k)\n",
        "\n",
        "  images = []\n",
        "  step_generator = tqdm.trange(steps) if use_progbar else range(steps)\n",
        "  for i in step_generator:\n",
        "    image, _ = plot_streaming_top_preds_at_step(\n",
        "        top_probs=top_probs,\n",
        "        top_labels=top_labels,\n",
        "        step=i,\n",
        "        image=video[i],\n",
        "        duration_seconds=duration,\n",
        "        figure_height=figure_height,\n",
        "    )\n",
        "    images.append(image)\n",
        "\n",
        "  return np.array(images)"
      ]
    },
    {
      "cell_type": "markdown",
      "metadata": {
        "id": "6g0tuFvf71S9"
      },
      "source": [
        "## Running Base Model Inference with TensorFlow Hub\n",
        "\n",
        "We will load MoViNet-A2-Base from TensorFlow Hub as part of the [MoViNet collection](https://tfhub.dev/google/collections/movinet/).\n",
        "\n",
        "The following code will:\n",
        "\n",
        "- Load a MoViNet KerasLayer from [tfhub.dev](https://tfhub.dev).\n",
        "- Wrap the layer in a [Keras Model](https://www.tensorflow.org/api_docs/python/tf/keras/Model).\n",
        "- Load an example gif as a video.\n",
        "- Classify the video and print the top-5 predicted classes."
      ]
    },
    {
      "cell_type": "code",
      "execution_count": 3,
      "metadata": {
        "id": "KZKKNZVBpglJ"
      },
      "outputs": [],
      "source": [
        "model = load_movinet_from_hub('a2', 'base', hub_version=3)"
      ]
    },
    {
      "cell_type": "markdown",
      "metadata": {
        "id": "7kU1_pL10l0B"
      },
      "source": [
        "To provide a simple example video for classification, we can load a short gif of jumping jacks being performed.\n",
        "\n",
        "![jumping jacks](https://github.com/tensorflow/models/raw/f8af2291cced43fc9f1d9b41ddbf772ae7b0d7d2/official/projects/movinet/files/jumpingjack.gif)\n",
        "\n",
        "Attribution: Footage shared by [Coach Bobby Bluford](https://www.youtube.com/watch?v=-AxHpj-EuPg) on YouTube under the CC-BY license."
      ]
    },
    {
      "cell_type": "code",
      "execution_count": 4,
      "metadata": {
        "id": "Iy0rKRrT723_",
        "outputId": "c5289bd3-b075-4cfb-dff9-bc429dcc3d9a",
        "colab": {
          "base_uri": "https://localhost:8080/",
          "height": 213
        }
      },
      "outputs": [
        {
          "output_type": "stream",
          "name": "stdout",
          "text": [
            "(13, 172, 172, 3)\n"
          ]
        },
        {
          "output_type": "display_data",
          "data": {
            "text/plain": [
              "<IPython.core.display.HTML object>"
            ],
            "text/html": [
              "<table class=\"show_videos\" style=\"border-spacing:0px;\"><tr><td style=\"padding:1px;\"><video controls width=\"172\" height=\"172\" style=\"object-fit:cover;\" loop autoplay muted>\n",
              "      <source src=\"data:video/mp4;base64,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\" type=\"video/mp4\"/>\n",
              "      This browser does not support the video tag.\n",
              "      </video></td></tr></table>"
            ]
          },
          "metadata": {}
        }
      ],
      "source": [
        "video = load_gif('jumpingjack.gif', image_size=(172, 172))\n",
        "\n",
        "# Show video\n",
        "print(video.shape)\n",
        "media.show_video(video.numpy(), fps=5)"
      ]
    },
    {
      "cell_type": "code",
      "execution_count": 5,
      "metadata": {
        "colab": {
          "base_uri": "https://localhost:8080/"
        },
        "id": "P0bZfrAsqPv2",
        "outputId": "d77c337d-73f1-4e9c-ba90-1dfb1c50bd1b"
      },
      "outputs": [
        {
          "output_type": "stream",
          "name": "stdout",
          "text": [
            "1/1 [==============================] - 11s 11s/step\n",
            "jumping jacks 0.9166436\n",
            "zumba 0.016020736\n",
            "doing aerobics 0.008053953\n",
            "dancing charleston 0.006083607\n",
            "lunge 0.0035062903\n"
          ]
        }
      ],
      "source": [
        "# Run the model on the video and output the top 5 predictions\n",
        "outputs = predict_top_k(model, video)\n",
        "\n",
        "for label, prob in outputs:\n",
        "  print(label, prob)"
      ]
    },
    {
      "cell_type": "markdown",
      "metadata": {
        "id": "ADrHPmwGcBZ5"
      },
      "source": [
        "## Run Streaming Model Inference with TensorFlow Hub and Plot Predictions\n",
        "\n",
        "We will load MoViNet-A2-Stream from TensorFlow Hub as part of the [MoViNet collection](https://tfhub.dev/google/collections/movinet/).\n",
        "\n",
        "The following code will:\n",
        "\n",
        "- Load a MoViNet model from [tfhub.dev](https://tfhub.dev).\n",
        "- Classify an example video and plot the streaming predictions over time."
      ]
    },
    {
      "cell_type": "code",
      "execution_count": 6,
      "metadata": {
        "id": "tXWR13wthnK5"
      },
      "outputs": [],
      "source": [
        "model = load_movinet_from_hub('a2', 'stream', hub_version=3)\n",
        "\n",
        "# Create initial states for the stream model\n",
        "init_states_fn = model.layers[-1].resolved_object.signatures['init_states']\n",
        "init_states = init_states_fn(tf.shape(video[tf.newaxis]))"
      ]
    },
    {
      "cell_type": "code",
      "execution_count": 7,
      "metadata": {
        "colab": {
          "base_uri": "https://localhost:8080/"
        },
        "id": "YqSkt7l8ltwt",
        "outputId": "ad875df3-62fb-47c5-fb9b-5e1be1ecd121"
      },
      "outputs": [
        {
          "output_type": "stream",
          "name": "stderr",
          "text": [
            "100%|██████████| 13/13 [00:09<00:00,  1.34it/s]"
          ]
        },
        {
          "output_type": "stream",
          "name": "stdout",
          "text": [
            "\n",
            "jumping jacks 0.9998123\n",
            "zumba 0.00011835485\n",
            "doing aerobics 3.3375753e-05\n",
            "dancing charleston 4.9819987e-06\n",
            "finger snapping 3.8673647e-06\n"
          ]
        },
        {
          "output_type": "stream",
          "name": "stderr",
          "text": [
            "\n"
          ]
        }
      ],
      "source": [
        "# Insert your video clip here\n",
        "video = load_gif('jumpingjack.gif', image_size=(172, 172))\n",
        "clips = tf.split(video[tf.newaxis], video.shape[0], axis=1)\n",
        "\n",
        "all_logits = []\n",
        "\n",
        "# To run on a video, pass in one frame at a time\n",
        "states = init_states\n",
        "for clip in tqdm.tqdm(clips):\n",
        "  # Input shape: [1, 1, 172, 172, 3]\n",
        "  logits, states = model.predict({**states, 'image': clip}, verbose=0)\n",
        "  all_logits.append(logits)\n",
        "\n",
        "logits = tf.concat(all_logits, 0)\n",
        "probs = tf.nn.softmax(logits)\n",
        "\n",
        "final_probs = probs[-1]\n",
        "top_k = get_top_k(final_probs)\n",
        "print()\n",
        "for label, prob in top_k:\n",
        "  print(label, prob)"
      ]
    },
    {
      "cell_type": "code",
      "execution_count": 8,
      "metadata": {
        "colab": {
          "base_uri": "https://localhost:8080/"
        },
        "id": "Xdox556CtMRb",
        "outputId": "06d7bfb9-8bfd-4bc1-b380-51594a340ffc"
      },
      "outputs": [
        {
          "output_type": "stream",
          "name": "stderr",
          "text": [
            "100%|██████████| 13/13 [00:05<00:00,  2.22it/s]\n"
          ]
        }
      ],
      "source": [
        "# Generate a plot and output to a video tensor\n",
        "plot_video = plot_streaming_top_preds(probs, video, video_fps=8.)"
      ]
    },
    {
      "cell_type": "code",
      "execution_count": 9,
      "metadata": {
        "id": "NSStKE9klCs3",
        "outputId": "ee512791-2284-49a7-e598-59da6fc9cf3e",
        "colab": {
          "base_uri": "https://localhost:8080/",
          "height": 523
        }
      },
      "outputs": [
        {
          "output_type": "display_data",
          "data": {
            "text/plain": [
              "<IPython.core.display.HTML object>"
            ],
            "text/html": [
              "<table class=\"show_videos\" style=\"border-spacing:0px;\"><tr><td style=\"padding:1px;\"><video controls width=\"464\" height=\"500\" style=\"object-fit:cover;\" loop autoplay muted>\n",
              "      <source src=\"data:video/mp4;base64,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\" type=\"video/mp4\"/>\n",
              "      This browser does not support the video tag.\n",
              "      </video></td></tr></table>"
            ]
          },
          "metadata": {}
        }
      ],
      "source": [
        "# For gif format, set codec='gif'\n",
        "media.show_video(plot_video, fps=3)"
      ]
    },
    {
      "cell_type": "markdown",
      "metadata": {
        "id": "W3CLHvubvdSI"
      },
      "source": [
        "## Export a Streaming Model to TensorFlow Lite for Mobile\n",
        "\n",
        "We will convert a MoViNet-A0-Stream model to [TensorFlow Lite](https://www.tensorflow.org/lite).\n",
        "\n",
        "The following code will:\n",
        "- Load a MoViNet-A0-Stream model.\n",
        "- Convert the model to TF Lite.\n",
        "- Run inference on an example video using the Python interpreter."
      ]
    },
    {
      "cell_type": "code",
      "execution_count": 3,
      "metadata": {
        "id": "KH0j-07KVh06"
      },
      "outputs": [],
      "source": [
        "from official.projects.movinet.modeling import movinet\n",
        "from official.projects.movinet.modeling import movinet_model\n",
        "from official.projects.movinet.tools import export_saved_model"
      ]
    },
    {
      "cell_type": "code",
      "execution_count": 4,
      "metadata": {
        "colab": {
          "base_uri": "https://localhost:8080/"
        },
        "id": "5DGwH9qi87Oe",
        "outputId": "7f1b0296-042f-420f-9fe2-6178f5f6f9a6"
      },
      "outputs": [
        {
          "output_type": "stream",
          "name": "stdout",
          "text": [
            "movinet_a0_stream/\n",
            "movinet_a0_stream/ckpt-1.data-00000-of-00001\n",
            "movinet_a0_stream/ckpt-1.index\n",
            "movinet_a0_stream/checkpoint\n"
          ]
        },
        {
          "output_type": "execute_result",
          "data": {
            "text/plain": [
              "<tensorflow.python.checkpoint.checkpoint.CheckpointLoadStatus at 0x791c981d9250>"
            ]
          },
          "metadata": {},
          "execution_count": 4
        }
      ],
      "source": [
        "model_id = 'a0'\n",
        "use_positional_encoding = model_id in {'a3', 'a4', 'a5'}\n",
        "\n",
        "# Create backbone and model.\n",
        "backbone = movinet.Movinet(\n",
        "    model_id=model_id,\n",
        "    causal=True,\n",
        "    conv_type='2plus1d',\n",
        "    se_type='2plus3d',\n",
        "    activation='hard_swish',\n",
        "    gating_activation='hard_sigmoid',\n",
        "    use_positional_encoding=use_positional_encoding,\n",
        "    use_external_states=True,\n",
        ")\n",
        "\n",
        "model = movinet_model.MovinetClassifier(\n",
        "    backbone,\n",
        "    num_classes=600,\n",
        "    output_states=True)\n",
        "\n",
        "# Create your example input here.\n",
        "# Refer to the paper for recommended input shapes.\n",
        "inputs = tf.ones([1, 13, 172, 172, 3])\n",
        "\n",
        "# [Optional] Build the model and load a pretrained checkpoint.\n",
        "model.build(inputs.shape)\n",
        "\n",
        "\n",
        "# Extract pretrained weights\n",
        "!wget https://storage.googleapis.com/tf_model_garden/vision/movinet/movinet_a0_stream.tar.gz -O movinet_a0_stream.tar.gz -q\n",
        "!tar -xvf movinet_a0_stream.tar.gz\n",
        "\n",
        "checkpoint_dir = 'movinet_a0_stream'\n",
        "checkpoint_path = tf.train.latest_checkpoint(checkpoint_dir)\n",
        "checkpoint = tf.train.Checkpoint(model=model)\n",
        "status = checkpoint.restore(checkpoint_path)\n",
        "status.assert_existing_objects_matched()"
      ]
    },
    {
      "cell_type": "code",
      "execution_count": 5,
      "metadata": {
        "id": "RLkV0xtPvfkY"
      },
      "outputs": [],
      "source": [
        "# Export to saved model\n",
        "saved_model_dir = 'model'\n",
        "tflite_filename = 'model.tflite'\n",
        "input_shape = [1, 1, 172, 172, 3]\n",
        "\n",
        "# Convert to saved model\n",
        "export_saved_model.export_saved_model(\n",
        "    model=model,\n",
        "    input_shape=input_shape,\n",
        "    export_path=saved_model_dir,\n",
        "    causal=True,\n",
        "    bundle_input_init_states_fn=False)"
      ]
    },
    {
      "cell_type": "code",
      "execution_count": 6,
      "metadata": {
        "id": "gPg_6eMC8IwF"
      },
      "outputs": [],
      "source": [
        "# Convert to TF Lite\n",
        "converter = tf.lite.TFLiteConverter.from_saved_model(saved_model_dir)\n",
        "tflite_model = converter.convert()\n",
        "\n",
        "with open(tflite_filename, 'wb') as f:\n",
        "  f.write(tflite_model)\n",
        "\n",
        "# Create the interpreter and signature runner\n",
        "interpreter = tf.lite.Interpreter(model_path=tflite_filename)\n",
        "runner = interpreter.get_signature_runner()\n",
        "\n",
        "init_states = {\n",
        "    name: tf.zeros(x['shape'], dtype=x['dtype'])\n",
        "    for name, x in runner.get_input_details().items()\n",
        "}\n",
        "del init_states['image']"
      ]
    },
    {
      "cell_type": "code",
      "execution_count": 7,
      "metadata": {
        "colab": {
          "base_uri": "https://localhost:8080/"
        },
        "id": "-TQ-7oSJIlTA",
        "outputId": "35b9bd07-eec0-4887-e9ca-4bce9572ce29"
      },
      "outputs": [
        {
          "output_type": "stream",
          "name": "stdout",
          "text": [
            "\n",
            "jumping jacks 0.9733522\n",
            "jogging 0.0032490464\n",
            "stretching arm 0.0027801103\n",
            "riding unicycle 0.0019377919\n",
            "passing soccer ball 0.0016310448\n"
          ]
        }
      ],
      "source": [
        "# Insert your video clip here\n",
        "video = load_gif('jumpingjack.gif', image_size=(172, 172))\n",
        "clips = tf.split(video[tf.newaxis], video.shape[0], axis=1)\n",
        "\n",
        "# To run on a video, pass in one frame at a time\n",
        "states = init_states\n",
        "for clip in clips:\n",
        "  # Input shape: [1, 1, 172, 172, 3]\n",
        "  outputs = runner(**states, image=clip)\n",
        "  logits = outputs.pop('logits')[0]\n",
        "  states = outputs\n",
        "\n",
        "probs = tf.nn.softmax(logits)\n",
        "top_k = get_top_k(probs)\n",
        "print()\n",
        "for label, prob in top_k:\n",
        "  print(label, prob)"
      ]
    },
    {
      "cell_type": "markdown",
      "metadata": {
        "id": "_s-7bEoa3f8g"
      },
      "source": [
        "## Fine-Tune a Base Model with the TensorFlow Model Garden\n",
        "\n",
        "We will Fine-tune MoViNet-A0-Base on [UCF-101](https://www.crcv.ucf.edu/research/data-sets/ucf101/).\n",
        "\n",
        "The following code will:\n",
        "\n",
        "- Load the UCF-101 dataset with [TensorFlow Datasets](https://www.tensorflow.org/datasets/catalog/ucf101).\n",
        "- Create a simple [`tf.data.Dataset`](https://www.tensorflow.org/api_docs/python/tf/data/Dataset) pipeline for training and evaluation.\n",
        "- Display some example videos from the dataset.\n",
        "- Build a MoViNet model and load pretrained weights.\n",
        "- Fine-tune the final classifier layers on UCF-101 and evaluate accuracy on the validation set."
      ]
    },
    {
      "cell_type": "markdown",
      "metadata": {
        "id": "o7unW4WVr580"
      },
      "source": [
        "### Load the UCF-101 Dataset with TensorFlow Datasets\n",
        "\n",
        "Calling `download_and_prepare()` will automatically download the dataset. This step may take up to 1 hour depending on the download and extraction speed. After downloading, the next cell will output information about the dataset."
      ]
    },
    {
      "cell_type": "code",
      "execution_count": 8,
      "metadata": {
        "id": "2IHLbPAfrs5P"
      },
      "outputs": [],
      "source": [
        "# Run imports\n",
        "import tensorflow_datasets as tfds\n",
        "\n",
        "from official.vision.configs import video_classification\n",
        "from official.projects.movinet.configs import movinet as movinet_configs\n",
        "from official.projects.movinet.modeling import movinet\n",
        "from official.projects.movinet.modeling import movinet_layers\n",
        "from official.projects.movinet.modeling import movinet_model"
      ]
    },
    {
      "cell_type": "code",
      "execution_count": null,
      "metadata": {
        "id": "FxM1vNYp_YAM",
        "outputId": "3c367c5f-5cbe-4401-81a3-28f049aea004",
        "colab": {
          "base_uri": "https://localhost:8080/",
          "height": 222,
          "referenced_widgets": [
            "b76d4b970c2443189cd4c36068d99413",
            "6619367844ae418482388a65f2eba47e",
            "b7baf3fa7a174be4ba5f14252a1d47ce",
            "e78007379f3f48f0a60bd8c83d452dc0",
            "1fe4b75b864d424cbc049f806a890efa",
            "d50c0c51753145ea81af2bec9f0ca8ca",
            "a08c0d3676034d678a7d31823e4ee331",
            "1c71a2a10e5243b2a63e1ada1590ffcf",
            "24a792ab049c45659712587e8529041a",
            "bc25b9b158524af68079b8604b986464",
            "917677d7bcf64b8aab4e75cb1337472e",
            "2f0e706634fb4398ae335abdc854e991",
            "ee3c2959085e46458aae0eb24e0a389d",
            "ab628309153743609a939211fa7b3bb7",
            "41d0f1ba927049a199009d168ab89ba3",
            "f31e23c3c2174768af576febb72cc66a",
            "93869d3a020e4aae971b25382476731e",
            "ac28d3787a0547d683d14376d38d4a98",
            "ef18c97448f945d697e7e66ccc360063",
            "80cae921f34740ab86add67c7aeed0b2",
            "f967ed339dea41cb8ff5eaef546b5728",
            "181f888931f148f29a666dae1936c407",
            "fc90faf48f2a4e3e85603ba2e9500171",
            "f27d3cb1700f4a47967754250426d503",
            "de78778e723a4aeab7968f5397764422",
            "221fff3da01540e78560f2864e36d1db",
            "432dcfb0460747ddad92f61ce263890b",
            "319836cbd9cb458da5e91dcc9ea7a2e4",
            "3045d8b90f264459906ed567fb1dbc05",
            "2a8884f5e615401cb4340a597a364781",
            "ed2f0099ba6f4ac2b77c4c482b53589e",
            "f598116eb26147c5a5f37e61c68d4721",
            "ec826f14802840c28e154f0898fb0fc5"
          ]
        }
      },
      "outputs": [
        {
          "output_type": "stream",
          "name": "stdout",
          "text": [
            "Downloading and preparing dataset 6.48 GiB (download: 6.48 GiB, generated: Unknown size, total: 6.48 GiB) to /root/tensorflow_datasets/ucf101/ucf101_1_256/2.0.0...\n"
          ]
        },
        {
          "output_type": "display_data",
          "data": {
            "text/plain": [
              "Dl Completed...: 0 url [00:00, ? url/s]"
            ],
            "application/vnd.jupyter.widget-view+json": {
              "version_major": 2,
              "version_minor": 0,
              "model_id": "b76d4b970c2443189cd4c36068d99413"
            }
          },
          "metadata": {}
        },
        {
          "output_type": "display_data",
          "data": {
            "text/plain": [
              "Dl Size...: 0 MiB [00:00, ? MiB/s]"
            ],
            "application/vnd.jupyter.widget-view+json": {
              "version_major": 2,
              "version_minor": 0,
              "model_id": "2f0e706634fb4398ae335abdc854e991"
            }
          },
          "metadata": {}
        },
        {
          "output_type": "display_data",
          "data": {
            "text/plain": [
              "Extraction completed...: 0 file [00:00, ? file/s]"
            ],
            "application/vnd.jupyter.widget-view+json": {
              "version_major": 2,
              "version_minor": 0,
              "model_id": "fc90faf48f2a4e3e85603ba2e9500171"
            }
          },
          "metadata": {}
        },
        {
          "output_type": "stream",
          "name": "stderr",
          "text": [
            "/usr/local/lib/python3.11/dist-packages/urllib3/connectionpool.py:1097: InsecureRequestWarning: Unverified HTTPS request is being made to host 'storage.googleapis.com'. Adding certificate verification is strongly advised. See: https://urllib3.readthedocs.io/en/latest/advanced-usage.html#tls-warnings\n",
            "  warnings.warn(\n",
            "/usr/local/lib/python3.11/dist-packages/urllib3/connectionpool.py:1097: InsecureRequestWarning: Unverified HTTPS request is being made to host 'www.crcv.ucf.edu'. Adding certificate verification is strongly advised. See: https://urllib3.readthedocs.io/en/latest/advanced-usage.html#tls-warnings\n",
            "  warnings.warn(\n"
          ]
        }
      ],
      "source": [
        "dataset_name = 'ucf101'\n",
        "\n",
        "builder = tfds.builder(dataset_name)\n",
        "\n",
        "config = tfds.download.DownloadConfig(verify_ssl=False)\n",
        "builder.download_and_prepare(download_config=config)"
      ]
    },
    {
      "cell_type": "code",
      "execution_count": null,
      "metadata": {
        "colab": {
          "base_uri": "https://localhost:8080/"
        },
        "id": "boQHbcfDhXpJ",
        "outputId": "e3e8b59d-861a-4358-f19a-99b059d7eb47"
      },
      "outputs": [
        {
          "name": "stdout",
          "output_type": "stream",
          "text": [
            "Number of classes: 101\n",
            "Number of examples for train: 9537\n",
            "Number of examples for test: 3783\n",
            "\n"
          ]
        },
        {
          "data": {
            "text/plain": [
              "tfds.core.DatasetInfo(\n",
              "    name='ucf101',\n",
              "    full_name='ucf101/ucf101_1_256/2.0.0',\n",
              "    description=\"\"\"\n",
              "    A 101-label video classification dataset.\n",
              "    \"\"\",\n",
              "    config_description=\"\"\"\n",
              "    256x256 UCF with the first action recognition split.\n",
              "    \"\"\",\n",
              "    homepage='https://www.crcv.ucf.edu/data-sets/ucf101/',\n",
              "    data_path='~/tensorflow_datasets/ucf101/ucf101_1_256/2.0.0',\n",
              "    file_format=tfrecord,\n",
              "    download_size=6.48 GiB,\n",
              "    dataset_size=7.41 GiB,\n",
              "    features=FeaturesDict({\n",
              "        'label': ClassLabel(shape=(), dtype=tf.int64, num_classes=101),\n",
              "        'video': Video(Image(shape=(256, 256, 3), dtype=tf.uint8)),\n",
              "    }),\n",
              "    supervised_keys=None,\n",
              "    disable_shuffling=False,\n",
              "    splits={\n",
              "        'test': <SplitInfo num_examples=3783, num_shards=32>,\n",
              "        'train': <SplitInfo num_examples=9537, num_shards=64>,\n",
              "    },\n",
              "    citation=\"\"\"@article{DBLP:journals/corr/abs-1212-0402,\n",
              "      author    = {Khurram Soomro and\n",
              "                   Amir Roshan Zamir and\n",
              "                   Mubarak Shah},\n",
              "      title     = {{UCF101:} {A} Dataset of 101 Human Actions Classes From Videos in\n",
              "                   The Wild},\n",
              "      journal   = {CoRR},\n",
              "      volume    = {abs/1212.0402},\n",
              "      year      = {2012},\n",
              "      url       = {http://arxiv.org/abs/1212.0402},\n",
              "      archivePrefix = {arXiv},\n",
              "      eprint    = {1212.0402},\n",
              "      timestamp = {Mon, 13 Aug 2018 16:47:45 +0200},\n",
              "      biburl    = {https://dblp.org/rec/bib/journals/corr/abs-1212-0402},\n",
              "      bibsource = {dblp computer science bibliography, https://dblp.org}\n",
              "    }\"\"\",\n",
              ")"
            ]
          },
          "execution_count": 18,
          "metadata": {},
          "output_type": "execute_result"
        }
      ],
      "source": [
        "num_classes = builder.info.features['label'].num_classes\n",
        "num_examples = {\n",
        "    name: split.num_examples\n",
        "    for name, split in builder.info.splits.items()\n",
        "}\n",
        "\n",
        "print('Number of classes:', num_classes)\n",
        "print('Number of examples for train:', num_examples['train'])\n",
        "print('Number of examples for test:', num_examples['test'])\n",
        "print()\n",
        "\n",
        "builder.info"
      ]
    },
    {
      "cell_type": "code",
      "execution_count": null,
      "metadata": {
        "id": "9cO_BCu9le3r"
      },
      "outputs": [],
      "source": [
        "# Build the training and evaluation datasets.\n",
        "\n",
        "batch_size = 8\n",
        "num_frames = 8\n",
        "frame_stride = 10\n",
        "resolution = 172\n",
        "\n",
        "def format_features(features):\n",
        "  video = features['video']\n",
        "  video = video[:, ::frame_stride]\n",
        "  video = video[:, :num_frames]\n",
        "\n",
        "  video = tf.reshape(video, [-1, video.shape[2], video.shape[3], 3])\n",
        "  video = tf.image.resize(video, (resolution, resolution))\n",
        "  video = tf.reshape(video, [-1, num_frames, resolution, resolution, 3])\n",
        "  video = tf.cast(video, tf.float32) / 255.\n",
        "\n",
        "  label = tf.one_hot(features['label'], num_classes)\n",
        "  return (video, label)\n",
        "\n",
        "train_dataset = builder.as_dataset(\n",
        "    split='train',\n",
        "    batch_size=batch_size,\n",
        "    shuffle_files=True)\n",
        "train_dataset = train_dataset.map(\n",
        "    format_features,\n",
        "    num_parallel_calls=tf.data.AUTOTUNE)\n",
        "train_dataset = train_dataset.repeat()\n",
        "train_dataset = train_dataset.prefetch(2)\n",
        "\n",
        "test_dataset = builder.as_dataset(\n",
        "    split='test',\n",
        "    batch_size=batch_size)\n",
        "test_dataset = test_dataset.map(\n",
        "    format_features,\n",
        "    num_parallel_calls=tf.data.AUTOTUNE,\n",
        "    deterministic=True)\n",
        "test_dataset = test_dataset.prefetch(2)"
      ]
    },
    {
      "cell_type": "markdown",
      "metadata": {
        "id": "rToX7_Ymgh57"
      },
      "source": [
        "Display some example videos from the dataset."
      ]
    },
    {
      "cell_type": "code",
      "execution_count": null,
      "metadata": {
        "id": "KG8Z7rUj06of"
      },
      "outputs": [],
      "source": [
        "videos, labels = next(iter(train_dataset))\n",
        "media.show_videos(videos.numpy(), codec='gif', fps=5)"
      ]
    },
    {
      "cell_type": "markdown",
      "metadata": {
        "id": "R3RHeuHdsd_3"
      },
      "source": [
        "### Build MoViNet-A0-Base and Load Pretrained Weights\n",
        "\n",
        "Here we create a MoViNet model using the open source code provided in [official/projects/movinet](https://github.com/tensorflow/models/tree/master/official/projects/movinet) and load the pretrained weights. Here we freeze the all layers except the final classifier head to speed up fine-tuning."
      ]
    },
    {
      "cell_type": "code",
      "execution_count": null,
      "metadata": {
        "colab": {
          "base_uri": "https://localhost:8080/"
        },
        "id": "JpfxpeGSsbzJ",
        "outputId": "83a49ab1-b28e-45c6-c0b3-2fc446944f65"
      },
      "outputs": [
        {
          "name": "stdout",
          "output_type": "stream",
          "text": [
            "movinet_a0_base/\n",
            "movinet_a0_base/checkpoint\n",
            "movinet_a0_base/ckpt-1.data-00000-of-00001\n",
            "movinet_a0_base/ckpt-1.index\n"
          ]
        }
      ],
      "source": [
        "model_id = 'a0'\n",
        "\n",
        "tf.keras.backend.clear_session()\n",
        "\n",
        "backbone = movinet.Movinet(model_id=model_id)\n",
        "model = movinet_model.MovinetClassifier(backbone=backbone, num_classes=600)\n",
        "model.build([1, 1, 1, 1, 3])\n",
        "\n",
        "# Load pretrained weights\n",
        "!wget https://storage.googleapis.com/tf_model_garden/vision/movinet/movinet_a0_base.tar.gz -O movinet_a0_base.tar.gz -q\n",
        "!tar -xvf movinet_a0_base.tar.gz\n",
        "\n",
        "checkpoint_dir = 'movinet_a0_base'\n",
        "checkpoint_path = tf.train.latest_checkpoint(checkpoint_dir)\n",
        "checkpoint = tf.train.Checkpoint(model=model)\n",
        "status = checkpoint.restore(checkpoint_path)\n",
        "status.assert_existing_objects_matched()\n",
        "\n",
        "def build_classifier(backbone, num_classes, freeze_backbone=False):\n",
        "  \"\"\"Builds a classifier on top of a backbone model.\"\"\"\n",
        "  model = movinet_model.MovinetClassifier(\n",
        "      backbone=backbone,\n",
        "      num_classes=num_classes)\n",
        "  model.build([batch_size, num_frames, resolution, resolution, 3])\n",
        "\n",
        "  if freeze_backbone:\n",
        "    for layer in model.layers[:-1]:\n",
        "      layer.trainable = False\n",
        "    model.layers[-1].trainable = True\n",
        "\n",
        "  return model\n",
        "\n",
        "# Wrap the backbone with a new classifier to create a new classifier head\n",
        "# with num_classes outputs (101 classes for UCF101).\n",
        "# Freeze all layers except for the final classifier head.\n",
        "model = build_classifier(backbone, num_classes, freeze_backbone=True)"
      ]
    },
    {
      "cell_type": "markdown",
      "metadata": {
        "id": "ucntdu2xqgXB"
      },
      "source": [
        "Configure fine-tuning with training/evaluation steps, loss object, metrics, learning rate, optimizer, and callbacks.\n",
        "\n",
        "Here we use 3 epochs. Training for more epochs should improve accuracy."
      ]
    },
    {
      "cell_type": "code",
      "execution_count": null,
      "metadata": {
        "id": "WUYTw48BouTu"
      },
      "outputs": [],
      "source": [
        "num_epochs = 3\n",
        "\n",
        "train_steps = num_examples['train'] // batch_size\n",
        "total_train_steps = train_steps * num_epochs\n",
        "test_steps = num_examples['test'] // batch_size\n",
        "\n",
        "loss_obj = tf.keras.losses.CategoricalCrossentropy(\n",
        "    from_logits=True,\n",
        "    label_smoothing=0.1)\n",
        "\n",
        "metrics = [\n",
        "    tf.keras.metrics.TopKCategoricalAccuracy(\n",
        "        k=1, name='top_1', dtype=tf.float32),\n",
        "    tf.keras.metrics.TopKCategoricalAccuracy(\n",
        "        k=5, name='top_5', dtype=tf.float32),\n",
        "]\n",
        "\n",
        "initial_learning_rate = 0.01\n",
        "learning_rate = tf.keras.optimizers.schedules.CosineDecay(\n",
        "    initial_learning_rate, decay_steps=total_train_steps,\n",
        ")\n",
        "optimizer = tf.keras.optimizers.RMSprop(\n",
        "    learning_rate, rho=0.9, momentum=0.9, epsilon=1.0, clipnorm=1.0)\n",
        "\n",
        "model.compile(loss=loss_obj, optimizer=optimizer, metrics=metrics)\n",
        "\n",
        "callbacks = [\n",
        "    tf.keras.callbacks.TensorBoard(),\n",
        "]"
      ]
    },
    {
      "cell_type": "markdown",
      "metadata": {
        "id": "0IyAOOlcpHna"
      },
      "source": [
        "Run the fine-tuning with Keras compile/fit. After fine-tuning the model, we should be able to achieve >85% accuracy on the test set."
      ]
    },
    {
      "cell_type": "code",
      "execution_count": null,
      "metadata": {
        "colab": {
          "base_uri": "https://localhost:8080/"
        },
        "id": "Zecc_K3lga8I",
        "outputId": "1946f687-aece-49f5-f5e7-09aad9f9882b"
      },
      "outputs": [
        {
          "name": "stdout",
          "output_type": "stream",
          "text": [
            "Epoch 1/3\n",
            "1192/1192 [==============================] - 1151s 949ms/step - loss: 2.5097 - top_1: 0.6726 - top_5: 0.8745 - val_loss: 1.6358 - val_top_1: 0.8125 - val_top_5: 0.9666\n",
            "Epoch 2/3\n",
            "1192/1192 [==============================] - 1138s 951ms/step - loss: 1.3347 - top_1: 0.9062 - top_5: 0.9894 - val_loss: 1.4627 - val_top_1: 0.8400 - val_top_5: 0.9709\n",
            "Epoch 3/3\n",
            "1192/1192 [==============================] - 1138s 955ms/step - loss: 1.2301 - top_1: 0.9340 - top_5: 0.9943 - val_loss: 1.4386 - val_top_1: 0.8438 - val_top_5: 0.9751\n"
          ]
        }
      ],
      "source": [
        "results = model.fit(\n",
        "    train_dataset,\n",
        "    validation_data=test_dataset,\n",
        "    epochs=num_epochs,\n",
        "    steps_per_epoch=train_steps,\n",
        "    validation_steps=test_steps,\n",
        "    callbacks=callbacks,\n",
        "    validation_freq=1,\n",
        "    verbose=1)"
      ]
    },
    {
      "cell_type": "markdown",
      "metadata": {
        "id": "XuH8XflmpU9d"
      },
      "source": [
        "We can also view the training and evaluation progress in TensorBoard."
      ]
    },
    {
      "cell_type": "code",
      "execution_count": null,
      "metadata": {
        "colab": {
          "base_uri": "https://localhost:8080/",
          "height": 839
        },
        "id": "9fZhzhRJRd2J",
        "outputId": "43a8b75e-28f2-456c-b6d7-5a02b65d2443"
      },
      "outputs": [
        {
          "data": {
            "text/plain": [
              "Reusing TensorBoard on port 43479 (pid 278134), started 19:51:44 ago. (Use '!kill 278134' to kill it.)"
            ]
          },
          "metadata": {},
          "output_type": "display_data"
        },
        {
          "data": {
            "application/javascript": [
              "\n",
              "        (async () => {\n",
              "            const url = new URL(await google.colab.kernel.proxyPort(43479, {'cache': true}));\n",
              "            url.searchParams.set('tensorboardColab', 'true');\n",
              "            const iframe = document.createElement('iframe');\n",
              "            iframe.src = url;\n",
              "            iframe.setAttribute('width', '100%');\n",
              "            iframe.setAttribute('height', '800');\n",
              "            iframe.setAttribute('frameborder', 0);\n",
              "            document.body.appendChild(iframe);\n",
              "        })();\n",
              "    "
            ],
            "text/plain": [
              "<IPython.core.display.Javascript object>"
            ]
          },
          "metadata": {},
          "output_type": "display_data"
        }
      ],
      "source": [
        "%reload_ext tensorboard\n",
        "%tensorboard --logdir logs --port 0"
      ]
    }
  ],
  "metadata": {
    "accelerator": "TPU",
    "colab": {
      "provenance": [],
      "gpuType": "V28",
      "include_colab_link": true
    },
    "kernelspec": {
      "display_name": "Python 3",
      "name": "python3"
    },
    "language_info": {
      "name": "python"
    },
    "widgets": {
      "application/vnd.jupyter.widget-state+json": {
        "b76d4b970c2443189cd4c36068d99413": {
          "model_module": "@jupyter-widgets/controls",
          "model_name": "HBoxModel",
          "model_module_version": "1.5.0",
          "state": {
            "_dom_classes": [],
            "_model_module": "@jupyter-widgets/controls",
            "_model_module_version": "1.5.0",
            "_model_name": "HBoxModel",
            "_view_count": null,
            "_view_module": "@jupyter-widgets/controls",
            "_view_module_version": "1.5.0",
            "_view_name": "HBoxView",
            "box_style": "",
            "children": [
              "IPY_MODEL_6619367844ae418482388a65f2eba47e",
              "IPY_MODEL_b7baf3fa7a174be4ba5f14252a1d47ce",
              "IPY_MODEL_e78007379f3f48f0a60bd8c83d452dc0"
            ],
            "layout": "IPY_MODEL_1fe4b75b864d424cbc049f806a890efa"
          }
        },
        "6619367844ae418482388a65f2eba47e": {
          "model_module": "@jupyter-widgets/controls",
          "model_name": "HTMLModel",
          "model_module_version": "1.5.0",
          "state": {
            "_dom_classes": [],
            "_model_module": "@jupyter-widgets/controls",
            "_model_module_version": "1.5.0",
            "_model_name": "HTMLModel",
            "_view_count": null,
            "_view_module": "@jupyter-widgets/controls",
            "_view_module_version": "1.5.0",
            "_view_name": "HTMLView",
            "description": "",
            "description_tooltip": null,
            "layout": "IPY_MODEL_d50c0c51753145ea81af2bec9f0ca8ca",
            "placeholder": "​",
            "style": "IPY_MODEL_a08c0d3676034d678a7d31823e4ee331",
            "value": "Dl Completed...: 100%"
          }
        },
        "b7baf3fa7a174be4ba5f14252a1d47ce": {
          "model_module": "@jupyter-widgets/controls",
          "model_name": "FloatProgressModel",
          "model_module_version": "1.5.0",
          "state": {
            "_dom_classes": [],
            "_model_module": "@jupyter-widgets/controls",
            "_model_module_version": "1.5.0",
            "_model_name": "FloatProgressModel",
            "_view_count": null,
            "_view_module": "@jupyter-widgets/controls",
            "_view_module_version": "1.5.0",
            "_view_name": "ProgressView",
            "bar_style": "info",
            "description": "",
            "description_tooltip": null,
            "layout": "IPY_MODEL_1c71a2a10e5243b2a63e1ada1590ffcf",
            "max": 1,
            "min": 0,
            "orientation": "horizontal",
            "style": "IPY_MODEL_24a792ab049c45659712587e8529041a",
            "value": 1
          }
        },
        "e78007379f3f48f0a60bd8c83d452dc0": {
          "model_module": "@jupyter-widgets/controls",
          "model_name": "HTMLModel",
          "model_module_version": "1.5.0",
          "state": {
            "_dom_classes": [],
            "_model_module": "@jupyter-widgets/controls",
            "_model_module_version": "1.5.0",
            "_model_name": "HTMLModel",
            "_view_count": null,
            "_view_module": "@jupyter-widgets/controls",
            "_view_module_version": "1.5.0",
            "_view_name": "HTMLView",
            "description": "",
            "description_tooltip": null,
            "layout": "IPY_MODEL_bc25b9b158524af68079b8604b986464",
            "placeholder": "​",
            "style": "IPY_MODEL_917677d7bcf64b8aab4e75cb1337472e",
            "value": " 2/2 [01:44&lt;00:00, 25.57s/ url]"
          }
        },
        "1fe4b75b864d424cbc049f806a890efa": {
          "model_module": "@jupyter-widgets/base",
          "model_name": "LayoutModel",
          "model_module_version": "1.2.0",
          "state": {
            "_model_module": "@jupyter-widgets/base",
            "_model_module_version": "1.2.0",
            "_model_name": "LayoutModel",
            "_view_count": null,
            "_view_module": "@jupyter-widgets/base",
            "_view_module_version": "1.2.0",
            "_view_name": "LayoutView",
            "align_content": null,
            "align_items": null,
            "align_self": null,
            "border": null,
            "bottom": null,
            "display": null,
            "flex": null,
            "flex_flow": null,
            "grid_area": null,
            "grid_auto_columns": null,
            "grid_auto_flow": null,
            "grid_auto_rows": null,
            "grid_column": null,
            "grid_gap": null,
            "grid_row": null,
            "grid_template_areas": null,
            "grid_template_columns": null,
            "grid_template_rows": null,
            "height": null,
            "justify_content": null,
            "justify_items": null,
            "left": null,
            "margin": null,
            "max_height": null,
            "max_width": null,
            "min_height": null,
            "min_width": null,
            "object_fit": null,
            "object_position": null,
            "order": null,
            "overflow": null,
            "overflow_x": null,
            "overflow_y": null,
            "padding": null,
            "right": null,
            "top": null,
            "visibility": null,
            "width": null
          }
        },
        "d50c0c51753145ea81af2bec9f0ca8ca": {
          "model_module": "@jupyter-widgets/base",
          "model_name": "LayoutModel",
          "model_module_version": "1.2.0",
          "state": {
            "_model_module": "@jupyter-widgets/base",
            "_model_module_version": "1.2.0",
            "_model_name": "LayoutModel",
            "_view_count": null,
            "_view_module": "@jupyter-widgets/base",
            "_view_module_version": "1.2.0",
            "_view_name": "LayoutView",
            "align_content": null,
            "align_items": null,
            "align_self": null,
            "border": null,
            "bottom": null,
            "display": null,
            "flex": null,
            "flex_flow": null,
            "grid_area": null,
            "grid_auto_columns": null,
            "grid_auto_flow": null,
            "grid_auto_rows": null,
            "grid_column": null,
            "grid_gap": null,
            "grid_row": null,
            "grid_template_areas": null,
            "grid_template_columns": null,
            "grid_template_rows": null,
            "height": null,
            "justify_content": null,
            "justify_items": null,
            "left": null,
            "margin": null,
            "max_height": null,
            "max_width": null,
            "min_height": null,
            "min_width": null,
            "object_fit": null,
            "object_position": null,
            "order": null,
            "overflow": null,
            "overflow_x": null,
            "overflow_y": null,
            "padding": null,
            "right": null,
            "top": null,
            "visibility": null,
            "width": null
          }
        },
        "a08c0d3676034d678a7d31823e4ee331": {
          "model_module": "@jupyter-widgets/controls",
          "model_name": "DescriptionStyleModel",
          "model_module_version": "1.5.0",
          "state": {
            "_model_module": "@jupyter-widgets/controls",
            "_model_module_version": "1.5.0",
            "_model_name": "DescriptionStyleModel",
            "_view_count": null,
            "_view_module": "@jupyter-widgets/base",
            "_view_module_version": "1.2.0",
            "_view_name": "StyleView",
            "description_width": ""
          }
        },
        "1c71a2a10e5243b2a63e1ada1590ffcf": {
          "model_module": "@jupyter-widgets/base",
          "model_name": "LayoutModel",
          "model_module_version": "1.2.0",
          "state": {
            "_model_module": "@jupyter-widgets/base",
            "_model_module_version": "1.2.0",
            "_model_name": "LayoutModel",
            "_view_count": null,
            "_view_module": "@jupyter-widgets/base",
            "_view_module_version": "1.2.0",
            "_view_name": "LayoutView",
            "align_content": null,
            "align_items": null,
            "align_self": null,
            "border": null,
            "bottom": null,
            "display": null,
            "flex": null,
            "flex_flow": null,
            "grid_area": null,
            "grid_auto_columns": null,
            "grid_auto_flow": null,
            "grid_auto_rows": null,
            "grid_column": null,
            "grid_gap": null,
            "grid_row": null,
            "grid_template_areas": null,
            "grid_template_columns": null,
            "grid_template_rows": null,
            "height": null,
            "justify_content": null,
            "justify_items": null,
            "left": null,
            "margin": null,
            "max_height": null,
            "max_width": null,
            "min_height": null,
            "min_width": null,
            "object_fit": null,
            "object_position": null,
            "order": null,
            "overflow": null,
            "overflow_x": null,
            "overflow_y": null,
            "padding": null,
            "right": null,
            "top": null,
            "visibility": null,
            "width": "20px"
          }
        },
        "24a792ab049c45659712587e8529041a": {
          "model_module": "@jupyter-widgets/controls",
          "model_name": "ProgressStyleModel",
          "model_module_version": "1.5.0",
          "state": {
            "_model_module": "@jupyter-widgets/controls",
            "_model_module_version": "1.5.0",
            "_model_name": "ProgressStyleModel",
            "_view_count": null,
            "_view_module": "@jupyter-widgets/base",
            "_view_module_version": "1.2.0",
            "_view_name": "StyleView",
            "bar_color": null,
            "description_width": ""
          }
        },
        "bc25b9b158524af68079b8604b986464": {
          "model_module": "@jupyter-widgets/base",
          "model_name": "LayoutModel",
          "model_module_version": "1.2.0",
          "state": {
            "_model_module": "@jupyter-widgets/base",
            "_model_module_version": "1.2.0",
            "_model_name": "LayoutModel",
            "_view_count": null,
            "_view_module": "@jupyter-widgets/base",
            "_view_module_version": "1.2.0",
            "_view_name": "LayoutView",
            "align_content": null,
            "align_items": null,
            "align_self": null,
            "border": null,
            "bottom": null,
            "display": null,
            "flex": null,
            "flex_flow": null,
            "grid_area": null,
            "grid_auto_columns": null,
            "grid_auto_flow": null,
            "grid_auto_rows": null,
            "grid_column": null,
            "grid_gap": null,
            "grid_row": null,
            "grid_template_areas": null,
            "grid_template_columns": null,
            "grid_template_rows": null,
            "height": null,
            "justify_content": null,
            "justify_items": null,
            "left": null,
            "margin": null,
            "max_height": null,
            "max_width": null,
            "min_height": null,
            "min_width": null,
            "object_fit": null,
            "object_position": null,
            "order": null,
            "overflow": null,
            "overflow_x": null,
            "overflow_y": null,
            "padding": null,
            "right": null,
            "top": null,
            "visibility": null,
            "width": null
          }
        },
        "917677d7bcf64b8aab4e75cb1337472e": {
          "model_module": "@jupyter-widgets/controls",
          "model_name": "DescriptionStyleModel",
          "model_module_version": "1.5.0",
          "state": {
            "_model_module": "@jupyter-widgets/controls",
            "_model_module_version": "1.5.0",
            "_model_name": "DescriptionStyleModel",
            "_view_count": null,
            "_view_module": "@jupyter-widgets/base",
            "_view_module_version": "1.2.0",
            "_view_name": "StyleView",
            "description_width": ""
          }
        },
        "2f0e706634fb4398ae335abdc854e991": {
          "model_module": "@jupyter-widgets/controls",
          "model_name": "HBoxModel",
          "model_module_version": "1.5.0",
          "state": {
            "_dom_classes": [],
            "_model_module": "@jupyter-widgets/controls",
            "_model_module_version": "1.5.0",
            "_model_name": "HBoxModel",
            "_view_count": null,
            "_view_module": "@jupyter-widgets/controls",
            "_view_module_version": "1.5.0",
            "_view_name": "HBoxView",
            "box_style": "",
            "children": [
              "IPY_MODEL_ee3c2959085e46458aae0eb24e0a389d",
              "IPY_MODEL_ab628309153743609a939211fa7b3bb7",
              "IPY_MODEL_41d0f1ba927049a199009d168ab89ba3"
            ],
            "layout": "IPY_MODEL_f31e23c3c2174768af576febb72cc66a"
          }
        },
        "ee3c2959085e46458aae0eb24e0a389d": {
          "model_module": "@jupyter-widgets/controls",
          "model_name": "HTMLModel",
          "model_module_version": "1.5.0",
          "state": {
            "_dom_classes": [],
            "_model_module": "@jupyter-widgets/controls",
            "_model_module_version": "1.5.0",
            "_model_name": "HTMLModel",
            "_view_count": null,
            "_view_module": "@jupyter-widgets/controls",
            "_view_module_version": "1.5.0",
            "_view_name": "HTMLView",
            "description": "",
            "description_tooltip": null,
            "layout": "IPY_MODEL_93869d3a020e4aae971b25382476731e",
            "placeholder": "​",
            "style": "IPY_MODEL_ac28d3787a0547d683d14376d38d4a98",
            "value": "Dl Size...: 100%"
          }
        },
        "ab628309153743609a939211fa7b3bb7": {
          "model_module": "@jupyter-widgets/controls",
          "model_name": "FloatProgressModel",
          "model_module_version": "1.5.0",
          "state": {
            "_dom_classes": [],
            "_model_module": "@jupyter-widgets/controls",
            "_model_module_version": "1.5.0",
            "_model_name": "FloatProgressModel",
            "_view_count": null,
            "_view_module": "@jupyter-widgets/controls",
            "_view_module_version": "1.5.0",
            "_view_name": "ProgressView",
            "bar_style": "info",
            "description": "",
            "description_tooltip": null,
            "layout": "IPY_MODEL_ef18c97448f945d697e7e66ccc360063",
            "max": 1,
            "min": 0,
            "orientation": "horizontal",
            "style": "IPY_MODEL_80cae921f34740ab86add67c7aeed0b2",
            "value": 1
          }
        },
        "41d0f1ba927049a199009d168ab89ba3": {
          "model_module": "@jupyter-widgets/controls",
          "model_name": "HTMLModel",
          "model_module_version": "1.5.0",
          "state": {
            "_dom_classes": [],
            "_model_module": "@jupyter-widgets/controls",
            "_model_module_version": "1.5.0",
            "_model_name": "HTMLModel",
            "_view_count": null,
            "_view_module": "@jupyter-widgets/controls",
            "_view_module_version": "1.5.0",
            "_view_name": "HTMLView",
            "description": "",
            "description_tooltip": null,
            "layout": "IPY_MODEL_f967ed339dea41cb8ff5eaef546b5728",
            "placeholder": "​",
            "style": "IPY_MODEL_181f888931f148f29a666dae1936c407",
            "value": " 6637/6637 [01:44&lt;00:00, 125.75 MiB/s]"
          }
        },
        "f31e23c3c2174768af576febb72cc66a": {
          "model_module": "@jupyter-widgets/base",
          "model_name": "LayoutModel",
          "model_module_version": "1.2.0",
          "state": {
            "_model_module": "@jupyter-widgets/base",
            "_model_module_version": "1.2.0",
            "_model_name": "LayoutModel",
            "_view_count": null,
            "_view_module": "@jupyter-widgets/base",
            "_view_module_version": "1.2.0",
            "_view_name": "LayoutView",
            "align_content": null,
            "align_items": null,
            "align_self": null,
            "border": null,
            "bottom": null,
            "display": null,
            "flex": null,
            "flex_flow": null,
            "grid_area": null,
            "grid_auto_columns": null,
            "grid_auto_flow": null,
            "grid_auto_rows": null,
            "grid_column": null,
            "grid_gap": null,
            "grid_row": null,
            "grid_template_areas": null,
            "grid_template_columns": null,
            "grid_template_rows": null,
            "height": null,
            "justify_content": null,
            "justify_items": null,
            "left": null,
            "margin": null,
            "max_height": null,
            "max_width": null,
            "min_height": null,
            "min_width": null,
            "object_fit": null,
            "object_position": null,
            "order": null,
            "overflow": null,
            "overflow_x": null,
            "overflow_y": null,
            "padding": null,
            "right": null,
            "top": null,
            "visibility": null,
            "width": null
          }
        },
        "93869d3a020e4aae971b25382476731e": {
          "model_module": "@jupyter-widgets/base",
          "model_name": "LayoutModel",
          "model_module_version": "1.2.0",
          "state": {
            "_model_module": "@jupyter-widgets/base",
            "_model_module_version": "1.2.0",
            "_model_name": "LayoutModel",
            "_view_count": null,
            "_view_module": "@jupyter-widgets/base",
            "_view_module_version": "1.2.0",
            "_view_name": "LayoutView",
            "align_content": null,
            "align_items": null,
            "align_self": null,
            "border": null,
            "bottom": null,
            "display": null,
            "flex": null,
            "flex_flow": null,
            "grid_area": null,
            "grid_auto_columns": null,
            "grid_auto_flow": null,
            "grid_auto_rows": null,
            "grid_column": null,
            "grid_gap": null,
            "grid_row": null,
            "grid_template_areas": null,
            "grid_template_columns": null,
            "grid_template_rows": null,
            "height": null,
            "justify_content": null,
            "justify_items": null,
            "left": null,
            "margin": null,
            "max_height": null,
            "max_width": null,
            "min_height": null,
            "min_width": null,
            "object_fit": null,
            "object_position": null,
            "order": null,
            "overflow": null,
            "overflow_x": null,
            "overflow_y": null,
            "padding": null,
            "right": null,
            "top": null,
            "visibility": null,
            "width": null
          }
        },
        "ac28d3787a0547d683d14376d38d4a98": {
          "model_module": "@jupyter-widgets/controls",
          "model_name": "DescriptionStyleModel",
          "model_module_version": "1.5.0",
          "state": {
            "_model_module": "@jupyter-widgets/controls",
            "_model_module_version": "1.5.0",
            "_model_name": "DescriptionStyleModel",
            "_view_count": null,
            "_view_module": "@jupyter-widgets/base",
            "_view_module_version": "1.2.0",
            "_view_name": "StyleView",
            "description_width": ""
          }
        },
        "ef18c97448f945d697e7e66ccc360063": {
          "model_module": "@jupyter-widgets/base",
          "model_name": "LayoutModel",
          "model_module_version": "1.2.0",
          "state": {
            "_model_module": "@jupyter-widgets/base",
            "_model_module_version": "1.2.0",
            "_model_name": "LayoutModel",
            "_view_count": null,
            "_view_module": "@jupyter-widgets/base",
            "_view_module_version": "1.2.0",
            "_view_name": "LayoutView",
            "align_content": null,
            "align_items": null,
            "align_self": null,
            "border": null,
            "bottom": null,
            "display": null,
            "flex": null,
            "flex_flow": null,
            "grid_area": null,
            "grid_auto_columns": null,
            "grid_auto_flow": null,
            "grid_auto_rows": null,
            "grid_column": null,
            "grid_gap": null,
            "grid_row": null,
            "grid_template_areas": null,
            "grid_template_columns": null,
            "grid_template_rows": null,
            "height": null,
            "justify_content": null,
            "justify_items": null,
            "left": null,
            "margin": null,
            "max_height": null,
            "max_width": null,
            "min_height": null,
            "min_width": null,
            "object_fit": null,
            "object_position": null,
            "order": null,
            "overflow": null,
            "overflow_x": null,
            "overflow_y": null,
            "padding": null,
            "right": null,
            "top": null,
            "visibility": null,
            "width": "20px"
          }
        },
        "80cae921f34740ab86add67c7aeed0b2": {
          "model_module": "@jupyter-widgets/controls",
          "model_name": "ProgressStyleModel",
          "model_module_version": "1.5.0",
          "state": {
            "_model_module": "@jupyter-widgets/controls",
            "_model_module_version": "1.5.0",
            "_model_name": "ProgressStyleModel",
            "_view_count": null,
            "_view_module": "@jupyter-widgets/base",
            "_view_module_version": "1.2.0",
            "_view_name": "StyleView",
            "bar_color": null,
            "description_width": ""
          }
        },
        "f967ed339dea41cb8ff5eaef546b5728": {
          "model_module": "@jupyter-widgets/base",
          "model_name": "LayoutModel",
          "model_module_version": "1.2.0",
          "state": {
            "_model_module": "@jupyter-widgets/base",
            "_model_module_version": "1.2.0",
            "_model_name": "LayoutModel",
            "_view_count": null,
            "_view_module": "@jupyter-widgets/base",
            "_view_module_version": "1.2.0",
            "_view_name": "LayoutView",
            "align_content": null,
            "align_items": null,
            "align_self": null,
            "border": null,
            "bottom": null,
            "display": null,
            "flex": null,
            "flex_flow": null,
            "grid_area": null,
            "grid_auto_columns": null,
            "grid_auto_flow": null,
            "grid_auto_rows": null,
            "grid_column": null,
            "grid_gap": null,
            "grid_row": null,
            "grid_template_areas": null,
            "grid_template_columns": null,
            "grid_template_rows": null,
            "height": null,
            "justify_content": null,
            "justify_items": null,
            "left": null,
            "margin": null,
            "max_height": null,
            "max_width": null,
            "min_height": null,
            "min_width": null,
            "object_fit": null,
            "object_position": null,
            "order": null,
            "overflow": null,
            "overflow_x": null,
            "overflow_y": null,
            "padding": null,
            "right": null,
            "top": null,
            "visibility": null,
            "width": null
          }
        },
        "181f888931f148f29a666dae1936c407": {
          "model_module": "@jupyter-widgets/controls",
          "model_name": "DescriptionStyleModel",
          "model_module_version": "1.5.0",
          "state": {
            "_model_module": "@jupyter-widgets/controls",
            "_model_module_version": "1.5.0",
            "_model_name": "DescriptionStyleModel",
            "_view_count": null,
            "_view_module": "@jupyter-widgets/base",
            "_view_module_version": "1.2.0",
            "_view_name": "StyleView",
            "description_width": ""
          }
        },
        "fc90faf48f2a4e3e85603ba2e9500171": {
          "model_module": "@jupyter-widgets/controls",
          "model_name": "HBoxModel",
          "model_module_version": "1.5.0",
          "state": {
            "_dom_classes": [],
            "_model_module": "@jupyter-widgets/controls",
            "_model_module_version": "1.5.0",
            "_model_name": "HBoxModel",
            "_view_count": null,
            "_view_module": "@jupyter-widgets/controls",
            "_view_module_version": "1.5.0",
            "_view_name": "HBoxView",
            "box_style": "",
            "children": [
              "IPY_MODEL_f27d3cb1700f4a47967754250426d503",
              "IPY_MODEL_de78778e723a4aeab7968f5397764422",
              "IPY_MODEL_221fff3da01540e78560f2864e36d1db"
            ],
            "layout": "IPY_MODEL_432dcfb0460747ddad92f61ce263890b"
          }
        },
        "f27d3cb1700f4a47967754250426d503": {
          "model_module": "@jupyter-widgets/controls",
          "model_name": "HTMLModel",
          "model_module_version": "1.5.0",
          "state": {
            "_dom_classes": [],
            "_model_module": "@jupyter-widgets/controls",
            "_model_module_version": "1.5.0",
            "_model_name": "HTMLModel",
            "_view_count": null,
            "_view_module": "@jupyter-widgets/controls",
            "_view_module_version": "1.5.0",
            "_view_name": "HTMLView",
            "description": "",
            "description_tooltip": null,
            "layout": "IPY_MODEL_319836cbd9cb458da5e91dcc9ea7a2e4",
            "placeholder": "​",
            "style": "IPY_MODEL_3045d8b90f264459906ed567fb1dbc05",
            "value": "Extraction completed...:   0%"
          }
        },
        "de78778e723a4aeab7968f5397764422": {
          "model_module": "@jupyter-widgets/controls",
          "model_name": "FloatProgressModel",
          "model_module_version": "1.5.0",
          "state": {
            "_dom_classes": [],
            "_model_module": "@jupyter-widgets/controls",
            "_model_module_version": "1.5.0",
            "_model_name": "FloatProgressModel",
            "_view_count": null,
            "_view_module": "@jupyter-widgets/controls",
            "_view_module_version": "1.5.0",
            "_view_name": "ProgressView",
            "bar_style": "info",
            "description": "",
            "description_tooltip": null,
            "layout": "IPY_MODEL_2a8884f5e615401cb4340a597a364781",
            "max": 1,
            "min": 0,
            "orientation": "horizontal",
            "style": "IPY_MODEL_ed2f0099ba6f4ac2b77c4c482b53589e",
            "value": 1
          }
        },
        "221fff3da01540e78560f2864e36d1db": {
          "model_module": "@jupyter-widgets/controls",
          "model_name": "HTMLModel",
          "model_module_version": "1.5.0",
          "state": {
            "_dom_classes": [],
            "_model_module": "@jupyter-widgets/controls",
            "_model_module_version": "1.5.0",
            "_model_name": "HTMLModel",
            "_view_count": null,
            "_view_module": "@jupyter-widgets/controls",
            "_view_module_version": "1.5.0",
            "_view_name": "HTMLView",
            "description": "",
            "description_tooltip": null,
            "layout": "IPY_MODEL_f598116eb26147c5a5f37e61c68d4721",
            "placeholder": "​",
            "style": "IPY_MODEL_ec826f14802840c28e154f0898fb0fc5",
            "value": " 7/12643 [01:44&lt;52:16:30, 14.89s/ file]"
          }
        },
        "432dcfb0460747ddad92f61ce263890b": {
          "model_module": "@jupyter-widgets/base",
          "model_name": "LayoutModel",
          "model_module_version": "1.2.0",
          "state": {
            "_model_module": "@jupyter-widgets/base",
            "_model_module_version": "1.2.0",
            "_model_name": "LayoutModel",
            "_view_count": null,
            "_view_module": "@jupyter-widgets/base",
            "_view_module_version": "1.2.0",
            "_view_name": "LayoutView",
            "align_content": null,
            "align_items": null,
            "align_self": null,
            "border": null,
            "bottom": null,
            "display": null,
            "flex": null,
            "flex_flow": null,
            "grid_area": null,
            "grid_auto_columns": null,
            "grid_auto_flow": null,
            "grid_auto_rows": null,
            "grid_column": null,
            "grid_gap": null,
            "grid_row": null,
            "grid_template_areas": null,
            "grid_template_columns": null,
            "grid_template_rows": null,
            "height": null,
            "justify_content": null,
            "justify_items": null,
            "left": null,
            "margin": null,
            "max_height": null,
            "max_width": null,
            "min_height": null,
            "min_width": null,
            "object_fit": null,
            "object_position": null,
            "order": null,
            "overflow": null,
            "overflow_x": null,
            "overflow_y": null,
            "padding": null,
            "right": null,
            "top": null,
            "visibility": null,
            "width": null
          }
        },
        "319836cbd9cb458da5e91dcc9ea7a2e4": {
          "model_module": "@jupyter-widgets/base",
          "model_name": "LayoutModel",
          "model_module_version": "1.2.0",
          "state": {
            "_model_module": "@jupyter-widgets/base",
            "_model_module_version": "1.2.0",
            "_model_name": "LayoutModel",
            "_view_count": null,
            "_view_module": "@jupyter-widgets/base",
            "_view_module_version": "1.2.0",
            "_view_name": "LayoutView",
            "align_content": null,
            "align_items": null,
            "align_self": null,
            "border": null,
            "bottom": null,
            "display": null,
            "flex": null,
            "flex_flow": null,
            "grid_area": null,
            "grid_auto_columns": null,
            "grid_auto_flow": null,
            "grid_auto_rows": null,
            "grid_column": null,
            "grid_gap": null,
            "grid_row": null,
            "grid_template_areas": null,
            "grid_template_columns": null,
            "grid_template_rows": null,
            "height": null,
            "justify_content": null,
            "justify_items": null,
            "left": null,
            "margin": null,
            "max_height": null,
            "max_width": null,
            "min_height": null,
            "min_width": null,
            "object_fit": null,
            "object_position": null,
            "order": null,
            "overflow": null,
            "overflow_x": null,
            "overflow_y": null,
            "padding": null,
            "right": null,
            "top": null,
            "visibility": null,
            "width": null
          }
        },
        "3045d8b90f264459906ed567fb1dbc05": {
          "model_module": "@jupyter-widgets/controls",
          "model_name": "DescriptionStyleModel",
          "model_module_version": "1.5.0",
          "state": {
            "_model_module": "@jupyter-widgets/controls",
            "_model_module_version": "1.5.0",
            "_model_name": "DescriptionStyleModel",
            "_view_count": null,
            "_view_module": "@jupyter-widgets/base",
            "_view_module_version": "1.2.0",
            "_view_name": "StyleView",
            "description_width": ""
          }
        },
        "2a8884f5e615401cb4340a597a364781": {
          "model_module": "@jupyter-widgets/base",
          "model_name": "LayoutModel",
          "model_module_version": "1.2.0",
          "state": {
            "_model_module": "@jupyter-widgets/base",
            "_model_module_version": "1.2.0",
            "_model_name": "LayoutModel",
            "_view_count": null,
            "_view_module": "@jupyter-widgets/base",
            "_view_module_version": "1.2.0",
            "_view_name": "LayoutView",
            "align_content": null,
            "align_items": null,
            "align_self": null,
            "border": null,
            "bottom": null,
            "display": null,
            "flex": null,
            "flex_flow": null,
            "grid_area": null,
            "grid_auto_columns": null,
            "grid_auto_flow": null,
            "grid_auto_rows": null,
            "grid_column": null,
            "grid_gap": null,
            "grid_row": null,
            "grid_template_areas": null,
            "grid_template_columns": null,
            "grid_template_rows": null,
            "height": null,
            "justify_content": null,
            "justify_items": null,
            "left": null,
            "margin": null,
            "max_height": null,
            "max_width": null,
            "min_height": null,
            "min_width": null,
            "object_fit": null,
            "object_position": null,
            "order": null,
            "overflow": null,
            "overflow_x": null,
            "overflow_y": null,
            "padding": null,
            "right": null,
            "top": null,
            "visibility": null,
            "width": "20px"
          }
        },
        "ed2f0099ba6f4ac2b77c4c482b53589e": {
          "model_module": "@jupyter-widgets/controls",
          "model_name": "ProgressStyleModel",
          "model_module_version": "1.5.0",
          "state": {
            "_model_module": "@jupyter-widgets/controls",
            "_model_module_version": "1.5.0",
            "_model_name": "ProgressStyleModel",
            "_view_count": null,
            "_view_module": "@jupyter-widgets/base",
            "_view_module_version": "1.2.0",
            "_view_name": "StyleView",
            "bar_color": null,
            "description_width": ""
          }
        },
        "f598116eb26147c5a5f37e61c68d4721": {
          "model_module": "@jupyter-widgets/base",
          "model_name": "LayoutModel",
          "model_module_version": "1.2.0",
          "state": {
            "_model_module": "@jupyter-widgets/base",
            "_model_module_version": "1.2.0",
            "_model_name": "LayoutModel",
            "_view_count": null,
            "_view_module": "@jupyter-widgets/base",
            "_view_module_version": "1.2.0",
            "_view_name": "LayoutView",
            "align_content": null,
            "align_items": null,
            "align_self": null,
            "border": null,
            "bottom": null,
            "display": null,
            "flex": null,
            "flex_flow": null,
            "grid_area": null,
            "grid_auto_columns": null,
            "grid_auto_flow": null,
            "grid_auto_rows": null,
            "grid_column": null,
            "grid_gap": null,
            "grid_row": null,
            "grid_template_areas": null,
            "grid_template_columns": null,
            "grid_template_rows": null,
            "height": null,
            "justify_content": null,
            "justify_items": null,
            "left": null,
            "margin": null,
            "max_height": null,
            "max_width": null,
            "min_height": null,
            "min_width": null,
            "object_fit": null,
            "object_position": null,
            "order": null,
            "overflow": null,
            "overflow_x": null,
            "overflow_y": null,
            "padding": null,
            "right": null,
            "top": null,
            "visibility": null,
            "width": null
          }
        },
        "ec826f14802840c28e154f0898fb0fc5": {
          "model_module": "@jupyter-widgets/controls",
          "model_name": "DescriptionStyleModel",
          "model_module_version": "1.5.0",
          "state": {
            "_model_module": "@jupyter-widgets/controls",
            "_model_module_version": "1.5.0",
            "_model_name": "DescriptionStyleModel",
            "_view_count": null,
            "_view_module": "@jupyter-widgets/base",
            "_view_module_version": "1.2.0",
            "_view_name": "StyleView",
            "description_width": ""
          }
        }
      }
    }
  },
  "nbformat": 4,
  "nbformat_minor": 0
}